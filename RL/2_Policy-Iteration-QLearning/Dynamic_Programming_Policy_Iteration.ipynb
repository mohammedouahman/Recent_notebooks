{
 "cells": [
  {
   "cell_type": "markdown",
   "metadata": {},
   "source": [
    "## Dynamic Programming (Policy Iteration)\n",
    "\n",
    "We will be solving the gridworld problem with dynamic programming. The agent will be dropped in a random position on the board and find its way to one of the corners. Each turn that passes the agent will receive a reward of -1 (incentivizing finding the terminal state as quickly as possible).\n",
    "\n",
    "We will be evaluating the value functions w.r.t. random policy.  Note that the dynamics of the MDP is deterministic. Given a state and action, we know exactly what the next state will be (square above, to left, to right, or below) Likewise, the reward is known for every action, state combination.\n",
    "\n",
    "\n",
    "<img src=\"imgs\\DP_Policy_Iteration_Algorithm.PNG\">"
   ]
  },
  {
   "cell_type": "code",
   "execution_count": 1,
   "metadata": {
    "ExecuteTime": {
     "end_time": "2019-12-05T20:52:08.336237Z",
     "start_time": "2019-12-05T20:52:07.764706Z"
    }
   },
   "outputs": [],
   "source": [
    "import numpy as np\n",
    "import matplotlib.pyplot as plt\n",
    "import random\n",
    "from tqdm import tqdm_notebook\n",
    "\n",
    "GRID_SIZE = 4\n",
    "GAMMA = 0.9\n",
    "NONTERM_REWARD = -1\n",
    "TERMINATION_STATE = [[0,0],[GRID_SIZE-1,GRID_SIZE-1]]\n",
    "ACTIONS = [[-1,0],[1,0],[0,1],[0,-1]]\n",
    "THETA = 1e-7\n",
    "ITERATION_CUTOFF = 250"
   ]
  },
  {
   "cell_type": "code",
   "execution_count": 2,
   "metadata": {
    "ExecuteTime": {
     "end_time": "2019-12-05T20:52:09.020194Z",
     "start_time": "2019-12-05T20:52:09.013239Z"
    }
   },
   "outputs": [],
   "source": [
    "def get_state_reward(current_state, action):\n",
    "    if current_state in TERMINATION_STATE:\n",
    "        return current_state, 0\n",
    "    \n",
    "    next_state = np.array(current_state) + np.array(action)\n",
    "    reward = NONTERM_REWARD\n",
    "    if (-1 in next_state) or (GRID_SIZE in next_state):\n",
    "        next_state = current_state\n",
    "    return next_state, reward\n",
    "\n",
    "def get_reward(current_state, action):\n",
    "    _, reward = get_state_reward(current_state, action)\n",
    "    return reward\n",
    "\n",
    "def get_state(current_state, action):\n",
    "    state, _ = get_state_reward(current_state, action)\n",
    "    return state\n",
    "\n",
    "def get_value(next_state, val_map):\n",
    "    return val_map[next_state[0], next_state[1]]\n",
    "    \n",
    "def set_value(value, state, val_map):\n",
    "    val_map[state[0], state[1]] = value\n",
    "    return val_map\n",
    "    \n",
    "def initialize_state_values():\n",
    "    \"\"\"Simply initialize the value matrix and the state index\n",
    "    \"\"\"\n",
    "    value_map = np.zeros((GRID_SIZE, GRID_SIZE))\n",
    "    states = [[i, j] for i in range(GRID_SIZE) for j in range(GRID_SIZE)]\n",
    "    return states, value_map\n",
    "\n",
    "def random_policy(current_state, value_map=None):\n",
    "    return [1/len(ACTIONS) for i in range(len(ACTIONS))]"
   ]
  },
  {
   "cell_type": "code",
   "execution_count": 3,
   "metadata": {
    "ExecuteTime": {
     "end_time": "2019-12-05T20:52:47.142058Z",
     "start_time": "2019-12-05T20:52:47.132085Z"
    }
   },
   "outputs": [],
   "source": [
    "def policy_evaluation(policy, stop_delta=True, val_map = None, _print=True, ret_deltas=True):\n",
    "    iteration = 0\n",
    "    deltas = [] \n",
    "    delta = 0\n",
    "    if val_map is None:\n",
    "        states, value_map = initialize_state_values()\n",
    "    else:\n",
    "        states, _ = initialize_state_values()\n",
    "        value_map = val_map\n",
    "    \n",
    "    stop_delta_flag = True\n",
    "    while (stop_delta_flag):\n",
    "        delta = 0\n",
    "        if iteration > ITERATION_CUTOFF:\n",
    "            break\n",
    "        else:\n",
    "            next_value_map = np.zeros((GRID_SIZE, GRID_SIZE))\n",
    "            for state in states:\n",
    "                v = get_value(state, value_map)\n",
    "                updated_v = 0\n",
    "                \n",
    "                action_probabilities = policy(state, value_map=value_map)\n",
    "\n",
    "                for i, action in enumerate(ACTIONS):\n",
    "                    next_state, reward = get_state_reward(state, action)\n",
    "                    updated_v += (action_probabilities[i])*(reward + (GAMMA*get_value(next_state, value_map)))\n",
    "                    \n",
    "                delta = max([delta, abs(v - updated_v)])\n",
    "                next_value_map = set_value(updated_v, state, next_value_map)\n",
    "                \n",
    "            deltas.append(delta)\n",
    "            value_map = next_value_map\n",
    "            iteration+=1\n",
    "            if _print and iteration in [1,2,1000]:\n",
    "                print(\"Iteration {}: \\nDelta: {}\".format(iteration, round(delta,3)))\n",
    "                print(value_map.round(3))\n",
    "                print()\n",
    "        if stop_delta:\n",
    "            stop_delta_flag = THETA < delta\n",
    "    if _print:        \n",
    "        print(\"Iteration {}: \\nDelta: {}\".format(iteration, round(delta,3)))\n",
    "        print(value_map.round(2))\n",
    "        print()\n",
    "    \n",
    "    if ret_deltas:\n",
    "        res = (value_map, deltas)\n",
    "    else:\n",
    "        res = value_map\n",
    "    return res"
   ]
  },
  {
   "cell_type": "code",
   "execution_count": 4,
   "metadata": {
    "ExecuteTime": {
     "end_time": "2019-12-05T20:52:47.803896Z",
     "start_time": "2019-12-05T20:52:47.653406Z"
    }
   },
   "outputs": [
    {
     "name": "stdout",
     "output_type": "stream",
     "text": [
      "-------------------------------------------------------------------\n",
      "Policy Evaluation on Grid World\n",
      "Iteration 1: \n",
      "Delta: 1.0\n",
      "[[ 0. -1. -1. -1.]\n",
      " [-1. -1. -1. -1.]\n",
      " [-1. -1. -1. -1.]\n",
      " [-1. -1. -1.  0.]]\n",
      "\n",
      "Iteration 2: \n",
      "Delta: 0.9\n",
      "[[ 0.    -1.675 -1.9   -1.9  ]\n",
      " [-1.675 -1.9   -1.9   -1.9  ]\n",
      " [-1.9   -1.9   -1.9   -1.675]\n",
      " [-1.9   -1.9   -1.675  0.   ]]\n",
      "\n",
      "Iteration 103: \n",
      "Delta: 0.0\n",
      "[[ 0.   -5.28 -7.13 -7.65]\n",
      " [-5.28 -6.61 -7.18 -7.13]\n",
      " [-7.13 -7.18 -6.61 -5.28]\n",
      " [-7.65 -7.13 -5.28  0.  ]]\n",
      "\n"
     ]
    }
   ],
   "source": [
    "print(\"-------------------------------------------------------------------\")\n",
    "print(\"Policy Evaluation on Grid World\")\n",
    "final_val_map_random, delta_random = policy_evaluation(random_policy, stop_delta=True)"
   ]
  },
  {
   "cell_type": "code",
   "execution_count": 5,
   "metadata": {
    "ExecuteTime": {
     "end_time": "2019-12-05T20:52:53.878455Z",
     "start_time": "2019-12-05T20:52:53.644499Z"
    }
   },
   "outputs": [
    {
     "data": {
      "image/png": "[encoded data removed]",
      "text/plain": [
       "<Figure size 576x432 with 1 Axes>"
      ]
     },
     "metadata": {},
     "output_type": "display_data"
    }
   ],
   "source": [
    "plt.figure(figsize=(8,6))\n",
    "plt.title(\"Random Policy Convergence\")\n",
    "plt.plot(range(len(delta_random)), delta_random, label= \"Random Policy\")\n",
    "plt.legend()\n",
    "plt.show()"
   ]
  },
  {
   "cell_type": "markdown",
   "metadata": {},
   "source": [
    "## Policy Improvement Theorem\n",
    "\n",
    "There is a partial ordering among policies that we can use to compare two policies. Given to policies pi and pi', pi' is a better is as good or better than pi if for all states of the MDP:\n",
    "<img src=\"imgs\\policy_improvement_theorem2.PNG\">\n",
    "\n",
    "\n",
    "\n",
    "One way a policy can be improved is to create a new policy by performing greedy selection on the previous policies value function. We can prove that this new greedy policy is at least as good as the old policy by checking if for each state.\n",
    "<img src=\"imgs\\policy_improvement_theorem.PNG\">\n",
    "\n",
    "In the below code, we test whether applying greedy selection to the value function for the random policy will result in a new policy that is strictly better for all states."
   ]
  },
  {
   "cell_type": "code",
   "execution_count": 6,
   "metadata": {
    "ExecuteTime": {
     "end_time": "2019-12-05T20:53:13.976750Z",
     "start_time": "2019-12-05T20:53:13.966691Z"
    }
   },
   "outputs": [],
   "source": [
    "def greedy_policy(current_state, value_map=None):\n",
    "    \"\"\"Returns the probability of next actions. (1 if no tie)\"\"\"\n",
    "    possible_rewards = [get_reward(current_state, action)+(GAMMA*get_value(get_state(current_state, action), value_map)) for action in ACTIONS]\n",
    "    max_r = max(possible_rewards)\n",
    "    greedy_actions = [1/(np.array(possible_rewards)==max_r).sum() if r==max_r else 0 for r in possible_rewards]\n",
    "    return greedy_actions\n",
    "\n",
    "def did_policy_improve(state, value_map, new_policy):\n",
    "    action_probabilities = new_policy(state, value_map)\n",
    "    q_pi = 0 \n",
    "    for i, action in enumerate(ACTIONS):\n",
    "        next_state, reward = get_state_reward(state, action)\n",
    "        q_pi += (action_probabilities[i])*(reward + (GAMMA*get_value(next_state, value_map)))\n",
    "    return q_pi >= get_value(state, value_map)"
   ]
  },
  {
   "cell_type": "code",
   "execution_count": 7,
   "metadata": {
    "ExecuteTime": {
     "end_time": "2019-12-05T20:53:15.451896Z",
     "start_time": "2019-12-05T20:53:15.428916Z"
    }
   },
   "outputs": [
    {
     "name": "stdout",
     "output_type": "stream",
     "text": [
      "-------------------------------------------------------------------\n",
      "Policy Improvement\n",
      "Is greedy selection better \n",
      "in the current state? \n",
      "\n",
      "[True, True, True, True]\n",
      "[True, True, True, True]\n",
      "[True, True, True, True]\n",
      "[True, True, True, True]\n"
     ]
    }
   ],
   "source": [
    "print(\"-------------------------------------------------------------------\")\n",
    "print(\"Policy Improvement\")\n",
    "states, _ = initialize_state_values()\n",
    "result = [[i for i in range(GRID_SIZE)] for j in range(GRID_SIZE)]\n",
    "for state in states:\n",
    "    improved = did_policy_improve(state, final_val_map_random, greedy_policy)\n",
    "    result[state[0]][state[1]] = improved\n",
    "\n",
    "print(\"Is greedy selection better \\nin the current state?\", '\\n')    \n",
    "for row in result:\n",
    "    print(row)"
   ]
  },
  {
   "cell_type": "markdown",
   "metadata": {},
   "source": [
    "### Computing Optimal Policy"
   ]
  },
  {
   "cell_type": "code",
   "execution_count": 8,
   "metadata": {
    "ExecuteTime": {
     "end_time": "2019-12-05T20:53:37.063511Z",
     "start_time": "2019-12-05T20:53:32.931542Z"
    }
   },
   "outputs": [
    {
     "name": "stdout",
     "output_type": "stream",
     "text": [
      "Optimal Value Function:\n",
      "[[ 0.   -1.   -1.9  -2.71]\n",
      " [-1.   -1.9  -2.71 -1.9 ]\n",
      " [-1.9  -2.71 -1.9  -1.  ]\n",
      " [-2.71 -1.9  -1.    0.  ]]\n"
     ]
    }
   ],
   "source": [
    "VAL_MAP = final_val_map_random\n",
    "for i in range(1000):\n",
    "    VAL_MAP = policy_evaluation(greedy_policy, stop_delta=True, val_map=VAL_MAP, _print=False, ret_deltas=False)\n",
    "print(\"Optimal Value Function:\")\n",
    "print(VAL_MAP)"
   ]
  },
  {
   "cell_type": "code",
   "execution_count": 9,
   "metadata": {
    "ExecuteTime": {
     "end_time": "2019-12-05T20:53:50.502602Z",
     "start_time": "2019-12-05T20:53:50.483454Z"
    }
   },
   "outputs": [
    {
     "name": "stdout",
     "output_type": "stream",
     "text": [
      "Optimal Policy:\n",
      "['UDRL', 'L', 'L', 'DL']\n",
      "['U', 'UL', 'UDRL', 'D']\n",
      "['U', 'UDRL', 'DR', 'D']\n",
      "['UR', 'R', 'R', 'UDRL']\n"
     ]
    }
   ],
   "source": [
    "def read_action(actions):\n",
    "    res = ''\n",
    "    names = ['U','D','R','L']\n",
    "    for i, act in enumerate(actions):\n",
    "        if act>0:\n",
    "            res+=names[i]\n",
    "    return res\n",
    "\n",
    "states, _ = initialize_state_values()\n",
    "optimal_actions = [[i for i in range(GRID_SIZE)] for j in range(GRID_SIZE)]\n",
    "for state in states:\n",
    "    action = greedy_policy(state, value_map=VAL_MAP)\n",
    "    optimal_actions[state[0]][state[1]] = read_action(action)\n",
    "print('Optimal Policy:')\n",
    "for row in optimal_actions:\n",
    "    print(row)"
   ]
  },
  {
   "cell_type": "markdown",
   "metadata": {},
   "source": [
    "# Q-Learning\n",
    "\n",
    "<img src=\"imgs\\Q_Learning_algorithm.PNG\">"
   ]
  },
  {
   "cell_type": "code",
   "execution_count": 10,
   "metadata": {
    "ExecuteTime": {
     "end_time": "2019-12-05T20:54:13.544234Z",
     "start_time": "2019-12-05T20:54:13.540284Z"
    }
   },
   "outputs": [],
   "source": [
    "import numpy as np\n",
    "import matplotlib.pyplot as plt\n",
    "from random import randint\n",
    "import random\n",
    "from tqdm import tqdm_notebook\n",
    "import pdb"
   ]
  },
  {
   "cell_type": "code",
   "execution_count": 11,
   "metadata": {
    "ExecuteTime": {
     "end_time": "2019-12-05T20:54:51.735743Z",
     "start_time": "2019-12-05T20:54:51.700798Z"
    }
   },
   "outputs": [],
   "source": [
    "def random_terminations(grid_size, num_holes=2):\n",
    "    termination_states = []\n",
    "    while len(termination_states)<=num_holes:\n",
    "        hole = [randint(0,grid_size-1),randint(0,grid_size-1)]\n",
    "        if hole not in termination_states:\n",
    "            termination_states.append(hole)\n",
    "    return termination_states\n",
    "\n",
    "def get_state_reward(current_state, action):\n",
    "    rando = random.random()\n",
    "    if rando<SLIP_PROB: #slip\n",
    "        next_state = np.array(current_state) + 2*np.array(action)\n",
    "        if next_state[0]<=-1:\n",
    "            next_state[0] = 0\n",
    "        if next_state[1]<=-1:\n",
    "            next_state[1] = 0\n",
    "        if next_state[0]>=GRID_SIZE:\n",
    "            next_state[0] = GRID_SIZE - 1\n",
    "        if next_state[1]>=GRID_SIZE:\n",
    "            next_state[1] = GRID_SIZE - 1\n",
    "        if list(np.array(current_state) + np.array(action)) in TERMINATION_STATE:\n",
    "            return list(next_state), TERM_REWARD #slipped into hole\n",
    "    else:\n",
    "        next_state = np.array(current_state) + np.array(action)\n",
    "\n",
    "    next_state = list(next_state)\n",
    "    if next_state in TERMINATION_STATE:\n",
    "        return next_state, TERM_REWARD #hole\n",
    "    else:\n",
    "        return next_state, NONTERM_REWARD\n",
    "\n",
    "def possible_actions(state):\n",
    "    actions =[]\n",
    "    if state[0]!=0:\n",
    "        actions.append([-1,0])\n",
    "    if state[1]!=0:\n",
    "        actions.append([0,-1]) \n",
    "    if state[0]!=GRID_SIZE-1:\n",
    "        actions.append([1,0])\n",
    "    if state[1]!=GRID_SIZE-1:\n",
    "        actions.append([0,1])\n",
    "    return actions\n",
    "\n",
    "    \n",
    "def initialize_Q_matrix():\n",
    "    Q_matrix = dict()\n",
    "    states = [[i, j] for i in range(GRID_SIZE) for j in range(GRID_SIZE)]\n",
    "    for state in states:\n",
    "        actions = possible_actions(state)\n",
    "        for action in actions:\n",
    "            Q_matrix[str(state[0])+str(state[1])+str(action)] = random.random()\n",
    "    return Q_matrix\n",
    "\n",
    "\n",
    "def greedy_policy(current_state, Q_matrix=None, epsilon=0.05):\n",
    "    \"\"\"Returns the probability of next actions. (1 if no tie)\"\"\"\n",
    "    actions = possible_actions(current_state)\n",
    "    rando = random.random()\n",
    "    if rando<epsilon:#random exploration\n",
    "        return random.choice(actions)\n",
    "    possible_rewards = [Q_matrix[str(current_state[0])+str(current_state[1])+str(action)] for action in actions]\n",
    "    i, max_r = max(enumerate(possible_rewards), key=lambda x: x[1])\n",
    "    greedy_action = actions[i]\n",
    "    return greedy_action\n",
    "\n",
    "\n",
    "def read_action(actions):\n",
    "    names = ['U','D','R','L']\n",
    "    if action ==[0,1]:\n",
    "        return 'R'\n",
    "    if action ==[1,0]:\n",
    "        return 'D'\n",
    "    if action ==[0,-1]:\n",
    "        return 'L'\n",
    "    if action ==[-1,0]:\n",
    "        return 'U'"
   ]
  },
  {
   "cell_type": "code",
   "execution_count": 12,
   "metadata": {
    "ExecuteTime": {
     "end_time": "2019-12-05T20:54:57.137862Z",
     "start_time": "2019-12-05T20:54:57.130846Z"
    }
   },
   "outputs": [],
   "source": [
    "def Q_Learn(num_iterations=1000):\n",
    "    iteration = 0\n",
    "    states = [[i, j] for i in range(GRID_SIZE) for j in range(GRID_SIZE)]\n",
    "    \n",
    "    Q_matrix = initialize_Q_matrix()\n",
    "    while (iteration<num_iterations):\n",
    "        iteration+=1\n",
    "        epsilon = 1 - iteration/(num_iterations/2) #agent explores at start\n",
    "        current_state = random.choice(states)\n",
    "        reward = 0\n",
    "        moves=0\n",
    "        while reward!=TERM_REWARD:\n",
    "            if moves>2000:\n",
    "                break\n",
    "            action = greedy_policy(current_state, Q_matrix=Q_matrix, epsilon=epsilon)\n",
    "            next_state, reward = get_state_reward(current_state, action)\n",
    "            previous_Q = Q_matrix[str(current_state[0])+str(current_state[1])+str(action)]\n",
    "            next_Q = Q_matrix[str(next_state[0])+str(next_state[1])+str(greedy_policy(next_state, Q_matrix=Q_matrix, epsilon=epsilon))]\n",
    "            update = (1-ALPHA)*previous_Q + ALPHA*(reward+GAMMA*next_Q)\n",
    "            Q_matrix[str(current_state[0])+str(current_state[1])+str(action)] = update\n",
    "            current_state = next_state\n",
    "            moves+=1\n",
    "    return Q_matrix"
   ]
  },
  {
   "cell_type": "code",
   "execution_count": 15,
   "metadata": {
    "ExecuteTime": {
     "end_time": "2019-12-05T20:57:17.320812Z",
     "start_time": "2019-12-05T20:56:42.155460Z"
    }
   },
   "outputs": [
    {
     "name": "stdout",
     "output_type": "stream",
     "text": [
      "-------------------------------------------------------------------\n",
      "Q-Learning on Ice Skating Rink\n",
      "Rink:\n",
      "[' ', ' ', ' ', ' ', ' ']\n",
      "['X', 'X', ' ', ' ', ' ']\n",
      "[' ', ' ', ' ', ' ', 'X']\n",
      "[' ', ' ', ' ', ' ', ' ']\n",
      "[' ', ' ', ' ', ' ', ' ']\n",
      "Optimal Policy:\n",
      "['R', 'R', 'R', 'D', 'L']\n",
      "['X', 'X', 'R', 'U', 'U']\n",
      "['D', 'D', 'D', 'D', 'X']\n",
      "['D', 'R', 'D', 'D', 'L']\n",
      "['R', 'R', 'L', 'L', 'L']\n"
     ]
    }
   ],
   "source": [
    "print(\"-------------------------------------------------------------------\")\n",
    "print(\"Q-Learning on Ice Skating Rink\")\n",
    "\n",
    "GRID_SIZE = 5\n",
    "TERMINATION_STATE = random_terminations(GRID_SIZE, num_holes=2) \n",
    "SLIP_PROB = 0.2\n",
    "\n",
    "NONTERM_REWARD = 100\n",
    "TERM_REWARD = -1000\n",
    "\n",
    "ALPHA = 0.1\n",
    "GAMMA = 0.3\n",
    "\n",
    "states = [[i, j] for i in range(GRID_SIZE) for j in range(GRID_SIZE)]\n",
    "rink = [[i for i in range(GRID_SIZE)] for j in range(GRID_SIZE)]\n",
    "for state in states:\n",
    "    if state in TERMINATION_STATE:\n",
    "        rink[state[0]][state[1]] = 'X'\n",
    "    else:\n",
    "        rink[state[0]][state[1]] = ' '\n",
    "\n",
    "print(\"Rink:\")\n",
    "for row in rink:\n",
    "    print(row)\n",
    "\n",
    "Q_matrix = Q_Learn(num_iterations=500)\n",
    "\n",
    "optimal_action = [[i for i in range(GRID_SIZE)] for j in range(GRID_SIZE)]\n",
    "for state in states:\n",
    "    action = greedy_policy(state, Q_matrix=Q_matrix, epsilon=0)\n",
    "    if state in TERMINATION_STATE:\n",
    "        optimal_action[state[0]][state[1]] = 'X'\n",
    "    else:\n",
    "        optimal_action[state[0]][state[1]] = read_action(action)\n",
    "print('Optimal Policy:')\n",
    "for row in optimal_action:\n",
    "    print(row)"
   ]
  },
  {
   "cell_type": "code",
   "execution_count": null,
   "metadata": {},
   "outputs": [],
   "source": []
  },
  {
   "cell_type": "code",
   "execution_count": null,
   "metadata": {},
   "outputs": [],
   "source": []
  }
 ],
 "metadata": {
  "kernelspec": {
   "display_name": "Python [conda env:py36]",
   "language": "python",
   "name": "conda-env-py36-py"
  },
  "language_info": {
   "codemirror_mode": {
    "name": "ipython",
    "version": 3
   },
   "file_extension": ".py",
   "mimetype": "text/x-python",
   "name": "python",
   "nbconvert_exporter": "python",
   "pygments_lexer": "ipython3",
   "version": "3.6.5"
  },
  "varInspector": {
   "cols": {
    "lenName": 16,
    "lenType": 16,
    "lenVar": 40
   },
   "kernels_config": {
    "python": {
     "delete_cmd_postfix": "",
     "delete_cmd_prefix": "del ",
     "library": "var_list.py",
     "varRefreshCmd": "print(var_dic_list())"
    },
    "r": {
     "delete_cmd_postfix": ") ",
     "delete_cmd_prefix": "rm(",
     "library": "var_list.r",
     "varRefreshCmd": "cat(var_dic_list()) "
    }
   },
   "types_to_exclude": [
    "module",
    "function",
    "builtin_function_or_method",
    "instance",
    "_Feature"
   ],
   "window_display": false
  }
 },
 "nbformat": 4,
 "nbformat_minor": 2
}
