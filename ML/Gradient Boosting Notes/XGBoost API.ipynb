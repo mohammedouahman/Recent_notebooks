{
 "cells": [
  {
   "cell_type": "markdown",
   "metadata": {},
   "source": [
    "# XGBoost API"
   ]
  },
  {
   "cell_type": "code",
   "execution_count": 10,
   "metadata": {},
   "outputs": [],
   "source": [
    "import xgboost as xgb\n",
    "\n",
    "clf = xgb.XGBClassifier()\n",
    "\n",
    "from sklearn.datasets import fetch_20newsgroups\n",
    "from sklearn.feature_extraction.text import TfidfVectorizer\n",
    "import numpy as np\n",
    "\n",
    "categories = ['alt.atheism', 'talk.religion.misc']\n",
    "newsgroups_train = fetch_20newsgroups(subset='train',categories = categories)\n",
    "newsgroups_test = fetch_20newsgroups(subset='test', categories=categories)\n",
    "\n",
    "vect = TfidfVectorizer(min_df=5)\n",
    "\n",
    "X_train = vect.fit_transform(newsgroups_train.data)\n",
    "y_train = newsgroups_train.target\n",
    "X_test = vect.transform(newsgroups_test.data)\n",
    "y_test = newsgroups_test.target\n",
    "\n",
    "feature_names = np.asarray(vect.get_feature_names())"
   ]
  },
  {
   "cell_type": "markdown",
   "metadata": {},
   "source": [
    "## Core Data Structure"
   ]
  },
  {
   "cell_type": "code",
   "execution_count": 38,
   "metadata": {},
   "outputs": [
    {
     "name": "stdout",
     "output_type": "stream",
     "text": [
      "\n"
     ]
    }
   ],
   "source": [
    "dtrain = xgb.DMatrix(X_train,\n",
    "                     label = y_train,\n",
    "                    feature_names=feature_names)\n",
    "dtest = xgb.DMatrix(X_test, \n",
    "                    label = y_test,\n",
    "                    feature_names=feature_names,\n",
    "                    missing=None)\n",
    "\n",
    "\"\"\"\n",
    "Data Matrix used in XGBoost.\n",
    "\n",
    "DMatrix is a internal data structure that used by XGBoost\n",
    "which is optimized for both memory efficiency and training speed.\n",
    "You can construct DMatrix from numpy.arrays\n",
    "Init docstring:\n",
    "Parameters\n",
    "----------\n",
    "data : string/numpy.array/scipy.sparse/pd.DataFrame/dt.Frame\n",
    "    Data source of DMatrix.\n",
    "    When data is string type, it represents the path libsvm format txt file,\n",
    "    or binary file that xgboost can read from.\n",
    "label : list or numpy 1-D array, optional\n",
    "    Label of the training data.\n",
    "missing : float, optional\n",
    "    Value in the data which needs to be present as a missing value. If\n",
    "    None, defaults to np.nan.\n",
    "weight : list or numpy 1-D array , optional\n",
    "    Weight for each instance.\n",
    "\n",
    "    .. note:: For ranking task, weights are per-group.\n",
    "\n",
    "        In ranking task, one weight is assigned to each group (not each data\n",
    "        point). This is because we only care about the relative ordering of\n",
    "        data points within each group, so it doesn't make sense to assign\n",
    "        weights to individual data points.\n",
    "\n",
    "silent : boolean, optional\n",
    "    Whether print messages during construction\n",
    "feature_names : list, optional\n",
    "    Set names for features.\n",
    "feature_types : list, optional\n",
    "    Set types for features.\n",
    "nthread : integer, optional\n",
    "    Number of threads to use for loading data from numpy array. If -1,\n",
    "    uses maximum threads available on the system.\"\"\"\n",
    "\n",
    "print()"
   ]
  },
  {
   "cell_type": "code",
   "execution_count": 39,
   "metadata": {},
   "outputs": [
    {
     "name": "stdout",
     "output_type": "stream",
     "text": [
      "num_col:  4369\n",
      "num_row:  857\n"
     ]
    }
   ],
   "source": [
    "#To get names of data columns\n",
    "feat_names = dtrain.feature_names\n",
    "\n",
    "#to get y values\n",
    "dtrain.get_label()\n",
    "\n",
    "#To get number of features\n",
    "print(\"num_col: \", dtrain.num_col())\n",
    "print(\"num_row: \", dtrain.num_row())"
   ]
  },
  {
   "cell_type": "markdown",
   "metadata": {},
   "source": [
    "## Booster\n",
    "\n",
    "A Booster of XGBoost.\n",
    "\n",
    "Booster is the model of xgboost, that contains low level routines for\n",
    "training, prediction and evaluation.\n",
    "\n",
    "----------\n",
    "params : dict\n",
    "    Parameters for boosters.\n",
    "cache : list\n",
    "    List of cache items.\n",
    "model_file : string\n",
    "    Path to the model file."
   ]
  },
  {
   "cell_type": "code",
   "execution_count": 18,
   "metadata": {},
   "outputs": [],
   "source": [
    "bst = xgb.Booster(model_file='model0001.model')\n",
    "\n",
    "#get feature importances\n",
    "bst.get_fscore()\n",
    "\n",
    "\"\"\"\n",
    "get_score(fmap='', importance_type='weight')\n",
    "Get feature importance of each feature. Importance type can be defined as:\n",
    "\n",
    "‘weight’: the number of times a feature is used to split the data across all trees.\n",
    "‘gain’: the average gain across all splits the feature is used in.\n",
    "‘cover’: the average coverage across all splits the feature is used in.\n",
    "‘total_gain’: the total gain across all splits the feature is used in.\n",
    "‘total_cover’: the total coverage across all splits the feature is used in.\n",
    "\"\"\"\n",
    "\n",
    "bst.get_score(importance_type='gain')\n",
    "\n",
    "#predict must be a DMatrix\n",
    "ypred = bst.predict(dtest)\n",
    "\n",
    "#same model\n",
    "#bst.save_model(filename)"
   ]
  },
  {
   "cell_type": "markdown",
   "metadata": {},
   "source": [
    "# Learning API"
   ]
  },
  {
   "cell_type": "code",
   "execution_count": 45,
   "metadata": {
    "scrolled": true
   },
   "outputs": [
    {
     "name": "stdout",
     "output_type": "stream",
     "text": [
      "[0]\ttrain-error:0.316219\ttest-error:0.385965\n",
      "Multiple eval metrics have been passed: 'test-error' will be used for early stopping.\n",
      "\n",
      "Will train until test-error hasn't improved in 10 rounds.\n",
      "[1]\ttrain-error:0.316219\ttest-error:0.385965\n",
      "[2]\ttrain-error:0.316219\ttest-error:0.385965\n",
      "[3]\ttrain-error:0.271879\ttest-error:0.352632\n",
      "[4]\ttrain-error:0.225204\ttest-error:0.32807\n",
      "[5]\ttrain-error:0.225204\ttest-error:0.32807\n",
      "[6]\ttrain-error:0.225204\ttest-error:0.32807\n",
      "[7]\ttrain-error:0.22287\ttest-error:0.32807\n",
      "[8]\ttrain-error:0.22287\ttest-error:0.32807\n",
      "[9]\ttrain-error:0.1972\ttest-error:0.321053\n",
      "[10]\ttrain-error:0.1972\ttest-error:0.321053\n",
      "[11]\ttrain-error:0.203034\ttest-error:0.32807\n",
      "[12]\ttrain-error:0.2007\ttest-error:0.329825\n",
      "[13]\ttrain-error:0.180863\ttest-error:0.319298\n",
      "[14]\ttrain-error:0.177363\ttest-error:0.321053\n",
      "[15]\ttrain-error:0.169195\ttest-error:0.314035\n",
      "[16]\ttrain-error:0.17853\ttest-error:0.312281\n",
      "[17]\ttrain-error:0.168028\ttest-error:0.312281\n",
      "[18]\ttrain-error:0.152859\ttest-error:0.305263\n",
      "[19]\ttrain-error:0.164527\ttest-error:0.308772\n",
      "[20]\ttrain-error:0.147024\ttest-error:0.308772\n",
      "[21]\ttrain-error:0.149358\ttest-error:0.3\n",
      "[22]\ttrain-error:0.142357\ttest-error:0.296491\n",
      "[23]\ttrain-error:0.144691\ttest-error:0.303509\n",
      "[24]\ttrain-error:0.143524\ttest-error:0.305263\n",
      "[25]\ttrain-error:0.142357\ttest-error:0.308772\n",
      "[26]\ttrain-error:0.136523\ttest-error:0.301754\n",
      "[27]\ttrain-error:0.129522\ttest-error:0.287719\n",
      "[28]\ttrain-error:0.126021\ttest-error:0.284211\n",
      "[29]\ttrain-error:0.11902\ttest-error:0.285965\n",
      "[30]\ttrain-error:0.121354\ttest-error:0.291228\n",
      "[31]\ttrain-error:0.121354\ttest-error:0.289474\n",
      "[32]\ttrain-error:0.116686\ttest-error:0.284211\n",
      "[33]\ttrain-error:0.115519\ttest-error:0.284211\n",
      "[34]\ttrain-error:0.117853\ttest-error:0.284211\n",
      "[35]\ttrain-error:0.112019\ttest-error:0.287719\n",
      "[36]\ttrain-error:0.101517\ttest-error:0.280702\n",
      "[37]\ttrain-error:0.096849\ttest-error:0.285965\n",
      "[38]\ttrain-error:0.095683\ttest-error:0.277193\n",
      "[39]\ttrain-error:0.095683\ttest-error:0.282456\n",
      "[40]\ttrain-error:0.101517\ttest-error:0.287719\n",
      "[41]\ttrain-error:0.096849\ttest-error:0.285965\n",
      "[42]\ttrain-error:0.089848\ttest-error:0.278947\n",
      "[43]\ttrain-error:0.087515\ttest-error:0.282456\n",
      "[44]\ttrain-error:0.087515\ttest-error:0.282456\n",
      "[45]\ttrain-error:0.085181\ttest-error:0.280702\n",
      "[46]\ttrain-error:0.082847\ttest-error:0.280702\n",
      "[47]\ttrain-error:0.084014\ttest-error:0.278947\n",
      "[48]\ttrain-error:0.084014\ttest-error:0.278947\n",
      "Stopping. Best iteration:\n",
      "[38]\ttrain-error:0.095683\ttest-error:0.277193\n",
      "\n"
     ]
    }
   ],
   "source": [
    "\"\"\"\n",
    "xgb.train(params, dtrain, num_boost_round=10, evals=(), obj=None, feval=None, maximize=False, early_stopping_rounds=None, evals_result=None, verbose_eval=True, xgb_model=None, callbacks=None, learning_rates=None)\n",
    "Docstring:\n",
    "Train a booster with given parameters.\n",
    "\n",
    "Parameters\n",
    "----------\n",
    "params : dict\n",
    "    Booster params.\n",
    "dtrain : DMatrix\n",
    "    Data to be trained.\n",
    "num_boost_round: int\n",
    "    Number of boosting iterations.\n",
    "evals: list of pairs (DMatrix, string)\n",
    "    List of items to be evaluated during training, this allows user to watch\n",
    "    performance on the validation set.\n",
    "obj : function\n",
    "    Customized objective function.\n",
    "feval : function\n",
    "    Customized evaluation function.\n",
    "maximize : bool\n",
    "    Whether to maximize feval.\n",
    "early_stopping_rounds: int\n",
    "    Activates early stopping. Validation error needs to decrease at least\n",
    "    every **early_stopping_rounds** round(s) to continue training.\n",
    "    Requires at least one item in **evals**.\n",
    "    If there's more than one, will use the last.\n",
    "    Returns the model from the last iteration (not the best one).\n",
    "    If early stopping occurs, the model will have three additional fields:\n",
    "    ``bst.best_score``, ``bst.best_iteration`` and ``bst.best_ntree_limit``.\n",
    "    (Use ``bst.best_ntree_limit`` to get the correct value if\n",
    "    ``num_parallel_tree`` and/or ``num_class`` appears in the parameters)\n",
    "evals_result: dict\n",
    "    This dictionary stores the evaluation results of all the items in watchlist.\n",
    "\n",
    "    Example: with a watchlist containing\n",
    "    ``[(dtest,'eval'), (dtrain,'train')]`` and\n",
    "    a parameter containing ``('eval_metric': 'logloss')``,\n",
    "    the **evals_result** returns\n",
    "\n",
    "    .. code-block:: python\n",
    "\n",
    "        {'train': {'logloss': ['0.48253', '0.35953']},\n",
    "         'eval': {'logloss': ['0.480385', '0.357756']}}\n",
    "\n",
    "verbose_eval : bool or int\n",
    "    Requires at least one item in **evals**.\n",
    "    If **verbose_eval** is True then the evaluation metric on the validation set is\n",
    "    printed at each boosting stage.\n",
    "    If **verbose_eval** is an integer then the evaluation metric on the validation set\n",
    "    is printed at every given **verbose_eval** boosting stage. The last boosting stage\n",
    "    / the boosting stage found by using **early_stopping_rounds** is also printed.\n",
    "    Example: with ``verbose_eval=4`` and at least one item in **evals**, an evaluation metric\n",
    "    is printed every 4 boosting stages, instead of every boosting stage.\n",
    "learning_rates: list or function (deprecated - use callback API instead)\n",
    "    List of learning rate for each boosting round\n",
    "    or a customized function that calculates eta in terms of\n",
    "    current number of round and the total number of boosting round (e.g. yields\n",
    "    learning rate decay)\n",
    "xgb_model : file name of stored xgb model or 'Booster' instance\n",
    "    Xgb model to be loaded before training (allows training continuation).\n",
    "callbacks : list of callback functions\n",
    "    List of callback functions that are applied at end of each iteration.\n",
    "    It is possible to use predefined callbacks by using\n",
    "    :ref:`Callback API <callback_api>`.\n",
    "    Example:\n",
    "\n",
    "    .. code-block:: python\n",
    "\n",
    "        [xgb.callback.reset_learning_rate(custom_rates)]\n",
    "\n",
    "Returns\n",
    "-------\n",
    "Booster : a trained booster model\"\"\"\n",
    "parameters = {'max_depth':2,\n",
    "         'eta':1,\n",
    "         'silent':True,\n",
    "          'learning_rate':0.1,   \n",
    "         'objective':'binary:logistic' }\n",
    "res={}\n",
    "\n",
    "bst = xgb.train(parameters,\n",
    "                dtrain,\n",
    "                num_boost_round=100,\n",
    "                evals=[(dtrain,\"train\"),(dtest,\"test\")],\n",
    "               early_stopping_rounds=10,\n",
    "               evals_result=res)"
   ]
  },
  {
   "cell_type": "code",
   "execution_count": 33,
   "metadata": {},
   "outputs": [
    {
     "data": {
      "image/png": "[encoded data removed]",
      "text/plain": [
       "<Figure size 432x288 with 1 Axes>"
      ]
     },
     "metadata": {},
     "output_type": "display_data"
    }
   ],
   "source": [
    "import matplotlib.pyplot as plt\n",
    "plt.plot(res['train']['error'],label=\"Train\")\n",
    "plt.plot(res['test']['error'],label=\"Test\")\n",
    "plt.legend()\n",
    "plt.show()"
   ]
  },
  {
   "cell_type": "markdown",
   "metadata": {},
   "source": [
    "## Scikit-Learn Wrapper"
   ]
  },
  {
   "cell_type": "code",
   "execution_count": 42,
   "metadata": {},
   "outputs": [
    {
     "name": "stderr",
     "output_type": "stream",
     "text": [
      "C:\\Users\\Harrison\\Anaconda3\\envs\\py36\\lib\\site-packages\\sklearn\\preprocessing\\label.py:151: DeprecationWarning: The truth value of an empty array is ambiguous. Returning False, but in future this will result in an error. Use `array.size > 0` to check that an array is not empty.\n",
      "  if diff:\n"
     ]
    }
   ],
   "source": [
    "clf = xgb.XGBClassifier(max_depth=3, learning_rate=0.1, n_estimators=100,\n",
    "                        verbosity=1, silent=None, objective='binary:logistic',    \n",
    "                        booster='gbtree', n_jobs=1)\n",
    "clf.fit(X_train,y_train)\n",
    "ypred = clf.predict(X_test)\n",
    "#clf.save_model()\n",
    "yprobs = clf.predict_proba(X_test)\n",
    "\n",
    "#get underlying booster\n",
    "#bst = clf.get_booster()"
   ]
  },
  {
   "cell_type": "code",
   "execution_count": 48,
   "metadata": {},
   "outputs": [
    {
     "data": {
      "image/png": "[encoded data removed]",
      "text/plain": [
       "<Figure size 432x288 with 1 Axes>"
      ]
     },
     "metadata": {},
     "output_type": "display_data"
    },
    {
     "data": {
      "image/png": "[encoded data removed]",
      "text/plain": [
       "<Figure size 432x288 with 1 Axes>"
      ]
     },
     "metadata": {},
     "output_type": "display_data"
    }
   ],
   "source": [
    "xgb.plot_importance(bst,\n",
    "                    importance_type='gain',\n",
    "                   max_num_features=15)\n",
    "\n",
    "plt.show()\n",
    "xgb.plot_importance(bst,\n",
    "                    importance_type='weight',\n",
    "                   max_num_features=15)\n",
    "\n",
    "plt.show()"
   ]
  },
  {
   "cell_type": "code",
   "execution_count": null,
   "metadata": {
    "collapsed": true
   },
   "outputs": [],
   "source": []
  }
 ],
 "metadata": {
  "kernelspec": {
   "display_name": "Python [conda env:py36]",
   "language": "python",
   "name": "conda-env-py36-py"
  },
  "language_info": {
   "codemirror_mode": {
    "name": "ipython",
    "version": 3
   },
   "file_extension": ".py",
   "mimetype": "text/x-python",
   "name": "python",
   "nbconvert_exporter": "python",
   "pygments_lexer": "ipython3",
   "version": "3.6.5"
  }
 },
 "nbformat": 4,
 "nbformat_minor": 2
}
