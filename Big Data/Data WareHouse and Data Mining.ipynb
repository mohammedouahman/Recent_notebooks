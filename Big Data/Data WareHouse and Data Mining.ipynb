{
 "cells": [
  {
   "cell_type": "markdown",
   "metadata": {},
   "source": [
    "# Data Warehousing and Data Mining\n",
    "\n",
    "<a href=https://panoply.io/data-warehouse-guide/data-warehousing-and-data-mining-101/>source</a>\n",
    "\n",
    "\n",
    "**Data Warehouse** pulls in raw data from disparate sources. (could be production systems, logs, ...) Stores data in a clean, standardized form available for analysis. Generally a relational database that stores historic operational data from across the organization. Optimized to support complex multidimensional queries.\n",
    "\n",
    "**Data mining** extracting value from data. General use cases are analysis and predictive modelling for future business endeavors.\n",
    "\n",
    "\n",
    "## Three Data Mining Principles\n",
    "\n",
    "1. Information discovered must be previously unknown.\n",
    "2. Information must be valid. (Statistical testing)\n",
    "3. Information must be actionable.\n",
    "\n",
    "## Common Data Mining Analyses \n",
    "\n",
    "**Association Rules** Objects that satisfy condition X are likely to satisfy condition Y. Great for Market Basket Analysis (Group similar items), cross selling, catalogue design, store layout, financial forecasting, likelihood of illness.\n",
    "\n",
    "**Sequential Pattern** Discovery of frequent subsequences in a collection of sequences, where order matters.  Web Traffic analysis, Market funnel analysis.\n",
    "\n",
    "**Classification/Regression** Discovery of a function that maps objects into predicted values. Selective Marketing, Performance Prediction, Diagnosing Illness.\n",
    "\n",
    "\n",
    "\n",
    "\n",
    "\n",
    "\n",
    "\n",
    "\n",
    "\n",
    "\n",
    "\n",
    "\n",
    "\n",
    "\n",
    "\n"
   ]
  },
  {
   "cell_type": "markdown",
   "metadata": {},
   "source": [
    "# ETL Process\n",
    "<a href=https://panoply.io/data-warehouse-guide/3-ways-to-build-an-etl-process/>source</a>\n",
    "\n",
    "**ETL** Loads"
   ]
  },
  {
   "cell_type": "markdown",
   "metadata": {},
   "source": [
    "## What is Hashing in DBMS?\n",
    "In DBMS, hashing is a technique to directly search the location of desired data on the disk without using index structure. \n",
    "### Use Hashing When:\n",
    "- For a huge db, an index may not be fast enough\n",
    "- When you don't want an index (??)\n",
    "\n",
    "#### Indexing\n",
    "- Addresses in mem are sorted by the key.\n",
    "- Use for range retrieval od data\n",
    "- Slower than hash for freq updates (since the whole index must be reorganized\n",
    "\n",
    "#### Hashing\n",
    "- Ideal for retrieval of individual records\n",
    "- Fast updates for frequent update situations\n",
    "- Hash file must be constantly managed"
   ]
  },
  {
   "cell_type": "markdown",
   "metadata": {},
   "source": [
    "## Indexing in DBMS\n",
    "### Clustered Index\n",
    "Sorts the data rows in the table on key values. Can only be one Clustered index per table. (Usually the primary key)\n",
    "\n",
    "### Non-Clustered Index\n",
    "Stores data and index seperately in different files. The index is a b-tree that contains pointers to the location of each unit of data. A table can have many non-clustered indices (each will have its own index that references the table)\n",
    "\n",
    "\n"
   ]
  },
  {
   "cell_type": "code",
   "execution_count": null,
   "metadata": {},
   "outputs": [],
   "source": []
  },
  {
   "cell_type": "code",
   "execution_count": null,
   "metadata": {},
   "outputs": [],
   "source": []
  },
  {
   "cell_type": "code",
   "execution_count": null,
   "metadata": {},
   "outputs": [],
   "source": []
  }
 ],
 "metadata": {
  "kernelspec": {
   "display_name": "Python 3",
   "language": "python",
   "name": "python3"
  },
  "language_info": {
   "codemirror_mode": {
    "name": "ipython",
    "version": 3
   },
   "file_extension": ".py",
   "mimetype": "text/x-python",
   "name": "python",
   "nbconvert_exporter": "python",
   "pygments_lexer": "ipython3",
   "version": "3.6.1"
  }
 },
 "nbformat": 4,
 "nbformat_minor": 2
}
