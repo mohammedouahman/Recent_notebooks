{
 "cells": [
  {
   "cell_type": "markdown",
   "metadata": {},
   "source": [
    "# PySpark Part 2\n",
    "\n",
    "[Apache Spark in Python: Beginner's Guide\n",
    "](https://www.datacamp.com/community/tutorials/apache-spark-python)\n",
    "\n",
    "### Python vs Scala\n",
    "When you’re working with the DataFrame API, there isn’t really much of a difference between Python and Scala, but you do need to be wary of User Defined Functions (UDFs), which are less efficient than its Scala equivalents. That’s why you should **favor built-in expressions if you’re working with Python**. When you’re working with Python, also make sure **not to pass your data between DataFrame and RDD unnecessarily**, as the serialization and deserialization of the data transfer is particularly expensive.\n",
    "\n",
    "thon is a good choice when you’re doing smaller ad hoc experiments, while Scala is great when you’re working on bigger projects in production. Remember that when a language is **statically typed**, every variable name is bound both to a type and an object. Scala is statically typed, Python is dynamically typed.\n",
    "\n",
    "### RDD, Dataset, and DataFrame\n",
    "\n",
    "**RDDs** have three main characteristics: they are compile-time type safe (they have a type!), they are lazy and they are based on the Scala collections API.\n",
    "- it’s easy to build inefficient transformation chains, they are slow with non-JVM languages such as Python, they can not be optimized by Spark.\n",
    "\n",
    "**DataFrames** are optimized: more intelligent decisions will be made when you’re transforming data and that also explains why they are faster than RDDs.\n",
    "\n",
    "**Dataset** can take on two distinct characteristics: a strongly-typed API and an untyped API\n",
    "\n",
    "since Python has no compile-time type-safety, only the untyped DataFrame API is available. Or, in other words, Spark DataSets are statically typed, while Python is a dynamically typed programming language. \n",
    "\n",
    "Use RDDs when you want to manipulate the data with functional programming constructs rather than domain specific expressions.\n",
    "\n",
    "### Persist vs Broadcast Variables\n",
    "Instead of creating a copy of the variable for each machine, you use broadcast variables to send some immutable state once to each worker. **Broadcast variables allow the programmer to keep a cached read-only variable in every machine.** In short, you use these variables when you want a local copy of a variable\n",
    "\n",
    "\n",
    "\n",
    "# PySpark SQL"
   ]
  },
  {
   "cell_type": "code",
   "execution_count": 1,
   "metadata": {},
   "outputs": [
    {
     "ename": "NameError",
     "evalue": "name 'spark' is not defined",
     "output_type": "error",
     "traceback": [
      "\u001b[1;31m---------------------------------------------------------------------------\u001b[0m",
      "\u001b[1;31mNameError\u001b[0m                                 Traceback (most recent call last)",
      "\u001b[1;32m<ipython-input-1-2098127babc5>\u001b[0m in \u001b[0;36m<module>\u001b[1;34m\u001b[0m\n\u001b[0;32m      1\u001b[0m \u001b[1;32mfrom\u001b[0m \u001b[0mpyspark\u001b[0m\u001b[1;33m.\u001b[0m\u001b[0msql\u001b[0m \u001b[1;32mimport\u001b[0m \u001b[0mRow\u001b[0m\u001b[1;33m\u001b[0m\u001b[0m\n\u001b[0;32m      2\u001b[0m \u001b[1;33m\u001b[0m\u001b[0m\n\u001b[1;32m----> 3\u001b[1;33m \u001b[0msc\u001b[0m \u001b[1;33m=\u001b[0m \u001b[0mspark\u001b[0m\u001b[1;33m.\u001b[0m\u001b[0msparkContext\u001b[0m\u001b[1;33m\u001b[0m\u001b[0m\n\u001b[0m\u001b[0;32m      4\u001b[0m \u001b[1;33m\u001b[0m\u001b[0m\n\u001b[0;32m      5\u001b[0m \u001b[1;31m# Load a text file and convert each line to a Row.\u001b[0m\u001b[1;33m\u001b[0m\u001b[1;33m\u001b[0m\u001b[0m\n",
      "\u001b[1;31mNameError\u001b[0m: name 'spark' is not defined"
     ]
    }
   ],
   "source": [
    "import pyspark as spark\n",
    "from pyspark.sql import Row\n",
    "\n",
    "sc = spark.sparkContext\n",
    "\n",
    "# Load a text file and convert each line to a Row.\n",
    "lines = sc.textFile(\"examples/src/main/resources/people.txt\")\n",
    "parts = lines.map(lambda l: l.split(\",\"))\n",
    "people = parts.map(lambda p: Row(name=p[0], age=int(p[1])))\n",
    "\n",
    "# Infer the schema, and register the DataFrame as a table.\n",
    "schemaPeople = spark.createDataFrame(people)\n",
    "schemaPeople.createOrReplaceTempView(\"people\")\n",
    "\n",
    "# SQL can be run over DataFrames that have been registered as a table.\n",
    "teenagers = spark.sql(\"SELECT name FROM people WHERE age >= 13 AND age <= 19\")\n",
    "#restult of SQL query is a DataFrame"
   ]
  },
  {
   "cell_type": "markdown",
   "metadata": {},
   "source": [
    "`class pyspark.sql.SparkSession(sparkContext, jsparkSession=None)`\n",
    "*The entry point to programming Spark with the Dataset and DataFrame API.*\n",
    "    \n",
    "    `.createDataFrame(data, schema=None, samplingRatio=None, verifySchema=True)`\n",
    "    \n",
    "Creates a DataFrame from an RDD, a list or a pandas.DataFrame.\n",
    "\n",
    "When schema is a list of column names, the type of each column will be inferred from data.\n",
    "\n",
    "When schema is None, it will try to infer the schema (column names and types) from data, which should be an RDD of Row, or namedtuple, or dict.\n",
    "\n",
    "`SparkSession.builder.enableHiveSupport().getOrCreate()`\n",
    "\n",
    " --------------------------------------------------------------- \n",
    "\n",
    "`class pyspark.sql.DataFrame(jdf, sql_ctx)`\n",
    "*A DataFrame is equivalent to a relational table in Spark SQL, and can be created using various functions in SparkSession:*\n",
    "\n",
    "    .coalesce(numPartitions)\n",
    "    *Returns a new DataFrame that has exactly numPartitions partitions. Creates a narrow transformation that combines partitions*\n",
    "    \n",
    "    .createTempView(name)\n",
    "    *Creates a local temporary view with this DataFrame. Can then be queried with SQL*"
   ]
  }
 ],
 "metadata": {
  "kernelspec": {
   "display_name": "Python [default]",
   "language": "python",
   "name": "python3"
  },
  "language_info": {
   "codemirror_mode": {
    "name": "ipython",
    "version": 3
   },
   "file_extension": ".py",
   "mimetype": "text/x-python",
   "name": "python",
   "nbconvert_exporter": "python",
   "pygments_lexer": "ipython3",
   "version": "3.6.4"
  },
  "toc": {
   "base_numbering": 1,
   "nav_menu": {},
   "number_sections": true,
   "sideBar": true,
   "skip_h1_title": false,
   "title_cell": "Table of Contents",
   "title_sidebar": "Contents",
   "toc_cell": false,
   "toc_position": {},
   "toc_section_display": true,
   "toc_window_display": false
  },
  "varInspector": {
   "cols": {
    "lenName": 16,
    "lenType": 16,
    "lenVar": 40
   },
   "kernels_config": {
    "python": {
     "delete_cmd_postfix": "",
     "delete_cmd_prefix": "del ",
     "library": "var_list.py",
     "varRefreshCmd": "print(var_dic_list())"
    },
    "r": {
     "delete_cmd_postfix": ") ",
     "delete_cmd_prefix": "rm(",
     "library": "var_list.r",
     "varRefreshCmd": "cat(var_dic_list()) "
    }
   },
   "types_to_exclude": [
    "module",
    "function",
    "builtin_function_or_method",
    "instance",
    "_Feature"
   ],
   "window_display": false
  }
 },
 "nbformat": 4,
 "nbformat_minor": 2
}
